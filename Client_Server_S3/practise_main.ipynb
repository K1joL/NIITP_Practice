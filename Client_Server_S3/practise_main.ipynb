{
 "cells": [
  {
   "cell_type": "code",
   "execution_count": 4,
   "id": "f11b1625-d62c-4806-a472-d8fc22c9c2f6",
   "metadata": {},
   "outputs": [],
   "source": [
    "import ORM\n",
    "import Minio_server\n",
    "import Minio_and_DHT_logic\n",
    "import concurrent.futures"
   ]
  },
  {
   "cell_type": "code",
   "execution_count": 5,
   "id": "8cf7ddb9-02a9-4587-978e-ea597fb86654",
   "metadata": {},
   "outputs": [],
   "source": [
    "def start(ip, port, node_list, access_key, secret_key):\n",
    "    with concurrent.futures.ThreadPoolExecutor(max_workers=2) as executor:\n",
    "        server = executor.submit(start_server, port)\n",
    "    Node_self = Node(ip, port)\n",
    "    Routing_table = RoutingTable(Node_self)\n",
    "    for node in node_list:\n",
    "        Routing_table.add_node(node)\n",
    "    client = Minio_client(ip, access_key, secret_key, port)"
   ]
  },
  {
   "cell_type": "code",
   "execution_count": 12,
   "id": "3b65382c-7526-473a-8d67-e36f1f3afb3c",
   "metadata": {},
   "outputs": [],
   "source": [
    "def load_self_file(client, path, file_name):\n",
    "    client.create_self_bucket(filename[:-4])\n",
    "    filepath = path+file_name \n",
    "    client.put_from_self_bucket(filename[:-4], filepath)\n",
    "    # + Надо добавить файл с хешем в базу данных\n",
    "    return True\n",
    "\n",
    "def load_other_file(client, path, file_name):\n",
    "    client.create_other_bucket(filename[:-4])\n",
    "    filepath = path+file_name \n",
    "    client.put_from_other_bucket(filename[:-4], filepath)\n",
    "    return True\n",
    "\n",
    "def get_file(client, file, bucket_name, file_name, node_list, access_key, secret_key):\n",
    "    for ip in node_list:\n",
    "        client.change_other_client(ip, access_key, secret_key)\n",
    "        context = client.get_from_other_bucket(bucket_name, file_name)\n",
    "        if context:\n",
    "            break\n",
    "    # + Добавить файл и его содержимое в бд\n",
    "    return context, ip\n",
    "\n",
    "# Сделать функцию, передающую заголовочные файлы и часть составных файлов\n",
    "def start_transmitting(file_list, path, client, RoutingTable, access_key, secret_key):\n",
    "    buckets = RoutingTable.get_buckets()\n",
    "    if 'header' in file_list[0]:\n",
    "        for bucket in buckets:\n",
    "            for node in bucket:\n",
    "                node_ip = node.get_ip()\n",
    "                client.change_other_client(node_ip, access_key, secret_key)\n",
    "                load_other_file(client, path, file_list[0])\n",
    "    else:\n",
    "        return \"Error! First file must be header!\"\n",
    "    for file in file_list[1:]:\n",
    "        nearlest = find_closest_nodes(file[:-4])[0]\n",
    "        client.change_other_client(nearlest[1].get_ip(), access_key, secret_key)\n",
    "        load_other_file(client, path, file)\n",
    "    return True\n",
    "        \n",
    "# Сделать функцию обращения к начальному узлу\n",
    "def appeal_to_default_node(client, RoutingTable, access_key, secret_key, bucket, file):\n",
    "    def_node = RoutingTable.get_default_node()\n",
    "    client.change_other_client(def_node.get_ip(), access_key, secret_key)\n",
    "    needed_file = client.get_from_other_bucket(bucket, file)\n",
    "    return needed_file"
   ]
  }
 ],
 "metadata": {
  "kernelspec": {
   "display_name": "Python 3 (ipykernel)",
   "language": "python",
   "name": "python3"
  },
  "language_info": {
   "codemirror_mode": {
    "name": "ipython",
    "version": 3
   },
   "file_extension": ".py",
   "mimetype": "text/x-python",
   "name": "python",
   "nbconvert_exporter": "python",
   "pygments_lexer": "ipython3",
   "version": "3.10.12"
  }
 },
 "nbformat": 4,
 "nbformat_minor": 5
}
